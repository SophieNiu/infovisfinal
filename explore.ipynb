{
 "cells": [
  {
   "cell_type": "code",
   "execution_count": 16,
   "metadata": {},
   "outputs": [],
   "source": [
    "import pandas as pd\n",
    "import numpy as np\n",
    "import matplotlib.pyplot as plt\n",
    "import seaborn as sns\n",
    "## you can comment the following 2 lines if you run the code in Jupyter Notebook/Lab\n",
    "# pd.set_option(\"display.max_columns\", None)\n",
    "# pd.set_option(\"display.max_row\", None)\n",
    "\n",
    "\"\"\"\n",
    "Author: Yixian Zhou, ...\n",
    "Date: Nov. 9\n",
    "Description: Exploaration. Data Cleaning: extrated state names from the GeoName and added some columns\n",
    "\"\"\"\n",
    "\n",
    "####### SET UP #######\n",
    "STATE_ABBR = \"\"\"Alabama - AL\n",
    "Alaska - AK\n",
    "Arizona - AZ\n",
    "Arkansas - AR\n",
    "California - CA\n",
    "Colorado - CO\n",
    "Connecticut - CT\n",
    "District of Columbia - DC\n",
    "Delaware - DE\n",
    "Florida - FL\n",
    "Georgia - GA\n",
    "Hawaii - HI\n",
    "Idaho - ID\n",
    "Illinois - IL\n",
    "Indiana - IN\n",
    "Iowa - IA\n",
    "Kansas - KS\n",
    "Kentucky - KY\n",
    "Louisiana - LA\n",
    "Maine - ME\n",
    "Maryland - MD\n",
    "Massachusetts - MA\n",
    "Michigan - MI\n",
    "Minnesota - MN\n",
    "Mississippi - MS\n",
    "Missouri - MO\n",
    "Montana - MT\n",
    "Nebraska - NE\n",
    "Nevada - NV\n",
    "New Hampshire - NH\n",
    "New Jersey - NJ\n",
    "New Mexico - NM\n",
    "New York - NY\n",
    "North Carolina - NC\n",
    "North Dakota - ND\n",
    "Ohio - OH\n",
    "Oklahoma - OK\n",
    "Oregon - OR\n",
    "Pennsylvania - PA\n",
    "Rhode Island - RI\n",
    "South Carolina - SC\n",
    "South Dakota - SD\n",
    "Tennessee - TN\n",
    "Texas - TX\n",
    "Utah - UT\n",
    "Vermont - VT\n",
    "Virginia - VA\n",
    "Washington - WA\n",
    "West Virginia - WV\n",
    "Wisconsin - WI\n",
    "Wyoming - WY\"\"\"\n",
    "MAX_NUM_STATE = 4\n",
    "DATA_PATH = \"./dataset\"\n",
    "FILENAME = \"./dataset/climate_dataset_cleaned_v1.0.csv\"\n",
    "NUM_STATES = 51 ## well... it should be 50 but they included District of Columbia\n",
    "def is_multi_state(s):\n",
    "    \"\"\"return 1 if the county is a multi-state area\"\"\"\n",
    "    if \"-\" in s:\n",
    "        return 1\n",
    "    else:\n",
    "        return 0\n",
    "\n",
    "def get_num_states(s):\n",
    "    \"\"\"return the number of states\"\"\"\n",
    "    if (\"US\" in s):\n",
    "        return NUM_STATES\n",
    "    _state_list = s.split('-')\n",
    "    return len(_state_list)\n",
    "\n",
    "def convert2full(s, abbr2full):\n",
    "    \"\"\"convert abbreviations to full names\"\"\"\n",
    "    if (\"US\" in s) | (len(s) > 2) & (\"-\" not in s) : # record for country # record for states\n",
    "        return s        \n",
    "    elif \"-\" in s:\n",
    "        return \"-\".join([abbr2full[abbr] for abbr in s.split(\"-\")])\n",
    "    else:\n",
    "        return abbr2full[s]\n",
    "\n",
    "####### LOAD DATA AND DATA CLEANING #######\n",
    "climate = pd.read_csv(f\"{DATA_PATH}/YCOM_2016_Data.01.csv\")\n",
    "metadata = pd.read_csv(f\"{DATA_PATH}/YCOM_Metadata_2017Feb20.csv\")\n",
    "\n",
    "raw_cols = list(climate.columns)\n",
    "pair_list = STATE_ABBR.split('\\n')\n",
    "abbr2full = {s.split('-')[1].strip(): s.split('-')[0].strip() for s in pair_list} # abbr_dict = {}\n",
    "\n",
    "climate['StateName_raw'] = climate['GeoName'].str.split(\", \").str[-1]\n",
    "climate['StateName'] = climate['StateName_raw'].apply(lambda x: convert2full(x, abbr2full))\n",
    "climate['GeoName_new'] = climate['GeoName'].str.split(\", \").str[0]\n",
    "# climate = climate[np.insert(climate.columns, 3, \"GeoName_new\")[:-1]] move columns name\n",
    "climate['IsMultiState'] = climate['StateName_raw'].apply(lambda x: is_multi_state(x))\n",
    "climate['NumStates'] = climate['StateName_raw'].apply(lambda x: get_num_states(x))\n",
    "\n",
    "for i in range(MAX_NUM_STATE):\n",
    "    climate[f'StateName_{i + 1}'] = climate['StateName'].str.split('-').str[i].str.strip()\n",
    "    climate[f'StateName_{i + 1}'] = climate[f'StateName_{i + 1}'].fillna(\"Empty\")\n",
    "\n",
    "climate = climate[raw_cols[:3] + ['GeoName_new', 'StateName_raw', 'StateName', 'IsMultiState', 'NumStates'] + \\\n",
    "                  [f\"StateName_{i + 1}\" for i in range(MAX_NUM_STATE)] + raw_cols[3:]]\n",
    "\n",
    "climate.to_csv(FILENAME, index=False)"
   ]
  },
  {
   "cell_type": "code",
   "execution_count": 32,
   "metadata": {},
   "outputs": [
    {
     "name": "stdout",
     "output_type": "stream",
     "text": [
      "Total Pop...\n",
      "Total population of all the counties in Alabama: 16553682\n",
      "Total population in Alabama: 3217902\n",
      "Different GeoType\n",
      "County      3142\n",
      "CBSA         916\n",
      "cd113        435\n",
      "State         51\n",
      "National       1\n",
      "Name: GeoType, dtype: int64\n"
     ]
    }
   ],
   "source": [
    "###### SOMETHINE ELSE ######\n",
    "print(\"Total Pop...\")\n",
    "print(\"Total population of all the counties in Alabama:\", climate[(climate['StateName'].str.contains(\"\\w*Alabama\\w*\")) & (climate['GeoType'] != 'State')]['TotalPop'].sum())\n",
    "print(\"Total population in Alabama:\", climate[(climate['StateName'] == \"Alabama\") & (climate['GeoType'] == 'State')]['TotalPop'].sum())\n",
    "print(\"Different GeoType\")\n",
    "print(climate['GeoType'].value_counts())"
   ]
  },
  {
   "cell_type": "code",
   "execution_count": 3,
   "metadata": {},
   "outputs": [],
   "source": [
    "# climate[climate['GeoType'] == \"cd113\"]"
   ]
  },
  {
   "cell_type": "code",
   "execution_count": 4,
   "metadata": {},
   "outputs": [
    {
     "name": "stdout",
     "output_type": "stream",
     "text": [
      "Number of States: 51\n",
      "List of States in the dataset:\n",
      " ['Alabama', 'Alaska', 'Arizona', 'Arkansas', 'California', 'Colorado', 'Connecticut', 'Delaware', 'District of Columbia', 'Florida', 'Georgia', 'Hawaii', 'Idaho', 'Illinois', 'Indiana', 'Iowa', 'Kansas', 'Kentucky', 'Louisiana', 'Maine', 'Maryland', 'Massachusetts', 'Michigan', 'Minnesota', 'Mississippi', 'Missouri', 'Montana', 'Nebraska', 'Nevada', 'New Hampshire', 'New Jersey', 'New Mexico', 'New York', 'North Carolina', 'North Dakota', 'Ohio', 'Oklahoma', 'Oregon', 'Pennsylvania', 'Rhode Island', 'South Carolina', 'South Dakota', 'Tennessee', 'Texas', 'Utah', 'Vermont', 'Virginia', 'Washington', 'West Virginia', 'Wisconsin', 'Wyoming']\n"
     ]
    }
   ],
   "source": [
    "print(f\"Number of States: {len(climate[climate['GeoType'] == 'State'])}\")\n",
    "print(\"List of States in the dataset:\\n\", list(climate[climate['GeoType'] == \"State\"][\"GeoName\"]))"
   ]
  },
  {
   "cell_type": "code",
   "execution_count": 7,
   "metadata": {},
   "outputs": [
    {
     "name": "stdout",
     "output_type": "stream",
     "text": [
      "All the columns:\n",
      " ['GeoType', 'GEOID', 'GeoName', 'GeoName_new', 'StateName_raw', 'StateName', 'IsMultiState', 'NumStates', 'StateName_1', 'StateName_2', 'StateName_3', 'StateName_4', 'TotalPop', 'discuss', 'discussOppose', 'CO2limits', 'CO2limitsOppose', 'trustclimsciSST', 'trustclimsciSSTOppose', 'regulate', 'regulateOppose', 'supportRPS', 'supportRPSOppose', 'fundrenewables', 'fundrenewablesOppose', 'mediaweekly', 'mediaweeklyOppose', 'happening', 'happeningOppose', 'human', 'humanOppose', 'consensus', 'consensusOppose', 'worried', 'worriedOppose', 'personal', 'personalOppose', 'harmUS', 'harmUSOppose', 'devharm', 'devharmOppose', 'futuregen', 'futuregenOppose', 'harmplants', 'harmplantsOppose', 'timing', 'timingOppose']\n"
     ]
    }
   ],
   "source": [
    "print(\"All the columns:\\n\", list(climate.columns))"
   ]
  },
  {
   "cell_type": "code",
   "execution_count": null,
   "metadata": {},
   "outputs": [],
   "source": [
    "# climate.describe()"
   ]
  },
  {
   "cell_type": "code",
   "execution_count": 19,
   "metadata": {},
   "outputs": [
    {
     "name": "stdout",
     "output_type": "stream",
     "text": [
      "  Statecode \n",
      " Geographic abbreviation\n",
      "  Statename \n",
      " Geographic name\n",
      "  TotalPop \n",
      " Total population\n",
      "  CO2limits \n",
      " Estimated percentage who somewhat/strongly support setting strict limits on existing coal-fire power plants\n",
      "  CO2limitsOppose \n",
      " Estimated percentage who somewhat/strongly oppose setting strict limits on existing coal-fire power plants\n",
      "  regulate \n",
      " Estimated percentage who somewhat/strongly support regulating CO2 as a pollutant\n",
      "  regulateOppose \n",
      " Estimated percentage who somewhat/strongly oppose regulating CO2 as a pollutant\n",
      "  supportRPS \n",
      " Estimated percentage who somewhat/strongly support requiring utilities to produce 20% electricity from renewable sources\n",
      "  supportRPSOppose \n",
      " Estimated percentage who somewhat/strongly oppose requiring utilities to produce 20% electricity from renewable sources\n",
      "  fundrenewables \n",
      " Estimated percentage who somewhat/strongly support funding research into renewable energy sources\n",
      "  fundrenewablesOppose \n",
      " Estimated percentage who somewhat/strongly oppose funding research into renewable energy sources\n",
      "  happening \n",
      " Estimated percentage who think that global warming is happening\n",
      "  happeningOppose \n",
      " Estimated percentage who do not think that global warming is happening\n",
      "  human \n",
      " Estimated percentage who think that global warming is caused mostly by human activities\n",
      "  humanOppose \n",
      " Estimated percentage who think that global warming is caused mostly by natural changes in the environment\n",
      "  consensus \n",
      " Estimated percentage who believe that most scientists think global warming is happening\n",
      "  consensusOppose \n",
      " Estimated percentage who believe there is a lot of disagreement among scientists about whether or not global warming is happening\n",
      "  worried \n",
      " Estimated percentage who are somewhat/very worried about global warming\n",
      "  worriedOppose \n",
      " Estimated percentage who are not very/not at all worried about global warming\n",
      "  personal \n",
      " Estimated percentage who think global warming will harm them personally a moderate amount/a great deal\n",
      "  personalOppose \n",
      " Estimated percentage who think global warming will harm them personally not at all/only a little\n",
      "  harmUS \n",
      " Estimated percentage who think global warming will harm people in the US a moderate amount/a great deal\n",
      "  harmUSOppose \n",
      " Estimated percentage who think global warming will harm people in the US not at all/only a little\n",
      "  devharm \n",
      " Estimated percentage who think global warming will harm people in developing countries a moderate amount/a great deal\n",
      "  devharmOppose \n",
      " Estimated percentage who think global warming will harm people in developing countries not at all/only a little\n",
      "  futuregen \n",
      " Estimated percentage who think global warming will harm future generations a moderate amount/a great deal\n",
      "  futuregenOppose \n",
      " Estimated percentage who think global warming will harm future generations not at all/only a little\n",
      "  timing \n",
      " Estimated percentage who think global warming will start to harm people in the United now/within 10 years\n",
      "  timingOppose \n",
      " Estimated percentage who think global warming will start to harm people in the United in 25 years or longer, or never\n",
      "  discuss \n",
      " Estimated percentage who discuss global warming occassionally or often with friends and family\n",
      "  discussOppose \n",
      " Estimated percentage who discuss global warming rarely or never with friends and family\n",
      "  mediaweekly \n",
      " Estimated percentage who hear about global warming in the media at least weekly\n",
      "  mediaweeklyOppose \n",
      " Estimated percentage who hear about global warming in the media several times a year or less often\n",
      "  trustclimsciSST \n",
      " Estimated percentage who somewhat or strongly trust climate scientists as a source of information about global warming\n",
      "  trustclimsciSSTOppose \n",
      " Estimated percentage who somewhat or strongly distrust climate scientists as a source of information about global warming\n",
      "  harmplants \n",
      " Estimated percentage who think global warming will harm plants and animal species a moderate amount/a great deal\n",
      "  harmplantsOppose \n",
      " Estimated percentage who think global warming will harm plants and animal species not at all/only a little\n"
     ]
    }
   ],
   "source": [
    "# print(\"======= what is in the metadata =======\")\n",
    "# for i in metadata.index:\n",
    "#     print(\" \",metadata.iloc[i]['YCOM VARIABLE NAME'], \"\\n\",metadata.iloc[i]['VARIABLE DESCRIPTION'])"
   ]
  },
  {
   "cell_type": "code",
   "execution_count": null,
   "metadata": {},
   "outputs": [],
   "source": []
  }
 ],
 "metadata": {
  "kernelspec": {
   "display_name": "Python 3",
   "language": "python",
   "name": "python3"
  },
  "language_info": {
   "codemirror_mode": {
    "name": "ipython",
    "version": 3
   },
   "file_extension": ".py",
   "mimetype": "text/x-python",
   "name": "python",
   "nbconvert_exporter": "python",
   "pygments_lexer": "ipython3",
   "version": "3.7.3"
  }
 },
 "nbformat": 4,
 "nbformat_minor": 4
}
